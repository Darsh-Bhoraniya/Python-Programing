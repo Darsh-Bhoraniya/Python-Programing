{
 "cells": [
  {
   "cell_type": "markdown",
   "metadata": {},
   "source": [
    "<a href='https://www.darshan.ac.in/'> <img src='https://www.darshan.ac.in/Content/media/DU_Logo.svg' width=\"250\" height=\"300\"/></a>\n",
    "<pre>\n",
    "<center><b><h1>Python Programming - 2101CS405</b></center>\n",
    "<center><b><h1>Lab - 1</b></center>    \n",
    "<pre>"
   ]
  },
  {
   "cell_type": "markdown",
   "metadata": {},
   "source": [
    "### 01) WAP to print “Hello World”"
   ]
  },
  {
   "cell_type": "code",
   "execution_count": 1,
   "metadata": {},
   "outputs": [
    {
     "name": "stdout",
     "output_type": "stream",
     "text": [
      "Hello Word\n"
     ]
    }
   ],
   "source": [
    "print(\"Hello Word\")"
   ]
  },
  {
   "cell_type": "markdown",
   "metadata": {},
   "source": [
    "### 02) WAP to print your address i) using single print ii) using multiple print"
   ]
  },
  {
   "cell_type": "code",
   "execution_count": 2,
   "metadata": {},
   "outputs": [
    {
     "name": "stdout",
     "output_type": "stream",
     "text": [
      "Darshan institute \n",
      " Rajkot-Morbi Highway \n",
      " Hadala-rajkot\n",
      "Darshan institute\n",
      "Rajkot-Morbi Highway\n",
      "Hadala-rajkot\n"
     ]
    }
   ],
   "source": [
    "\n",
    "print(\"Darshan institute \\n Rajkot-Morbi Highway \\n Hadala-rajkot\")\n",
    "\n",
    "print(\"Darshan institute\")\n",
    "print(\"Rajkot-Morbi Highway\")\n",
    "print(\"Hadala-rajkot\")"
   ]
  },
  {
   "cell_type": "markdown",
   "metadata": {},
   "source": [
    "### 03) WAP to print addition of 2 numbers (without input function)"
   ]
  },
  {
   "cell_type": "code",
   "execution_count": 3,
   "metadata": {},
   "outputs": [
    {
     "name": "stdout",
     "output_type": "stream",
     "text": [
      "Addition =  100\n"
     ]
    }
   ],
   "source": [
    "num1=50\n",
    "num2=50\n",
    "\n",
    "print(\"Addition = \",num1+num2)"
   ]
  },
  {
   "cell_type": "markdown",
   "metadata": {},
   "source": [
    "### 04) WAP to calculate and print average of 2 numbers (without input function)"
   ]
  },
  {
   "cell_type": "code",
   "execution_count": 5,
   "metadata": {},
   "outputs": [
    {
     "name": "stdout",
     "output_type": "stream",
     "text": [
      "Avrage of number =  25.0\n"
     ]
    }
   ],
   "source": [
    "num1=20\n",
    "num2=30\n",
    "\n",
    "print(\"Avrage of number = \",(num1+num2)/2)"
   ]
  },
  {
   "cell_type": "markdown",
   "metadata": {},
   "source": [
    "### 05) WAP to add two number entered by user."
   ]
  },
  {
   "cell_type": "code",
   "execution_count": 6,
   "metadata": {},
   "outputs": [
    {
     "name": "stdout",
     "output_type": "stream",
     "text": [
      "Enter your 1st number : 20\n",
      "Enter your 2nd number : 30\n",
      "Addition of both the number is = 50\n"
     ]
    }
   ],
   "source": [
    "num1 = int(input(\"Enter your 1st number : \"))\n",
    "num2 = int(input(\"Enter your 2nd number : \"))\n",
    "\n",
    "print(\"Addition of both the number is =\",num1+num2)"
   ]
  },
  {
   "cell_type": "markdown",
   "metadata": {},
   "source": [
    "### 06) WAP to calculate simple interest."
   ]
  },
  {
   "cell_type": "code",
   "execution_count": 7,
   "metadata": {},
   "outputs": [
    {
     "name": "stdout",
     "output_type": "stream",
     "text": [
      "Enter the Principal Amount : 20\n",
      "Enter the Rate  : 210\n",
      "Enter the Time : 30\n",
      "Simple Interest :  1260.0\n"
     ]
    }
   ],
   "source": [
    "p = int(input(\"Enter the Principal Amount : \"))\n",
    "r = int(input(\"Enter the Rate  : \"))\n",
    "n = int(input(\"Enter the Time : \"))\n",
    "\n",
    "\n",
    "print(\"Simple Interest : \", (p*r*n)/100)"
   ]
  },
  {
   "cell_type": "markdown",
   "metadata": {},
   "source": [
    "### 07) WAP Calculate Area and Circumfrence of Circle"
   ]
  },
  {
   "cell_type": "code",
   "execution_count": 8,
   "metadata": {},
   "outputs": [
    {
     "name": "stdout",
     "output_type": "stream",
     "text": [
      "Enter radius : 20\n",
      "Area = 1256.0\n",
      "Circumference = 125.60000000000001\n"
     ]
    }
   ],
   "source": [
    "radius = int(input(\"Enter radius : \"))\n",
    "\n",
    "print(\"Area =\",(3.14*radius*radius))\n",
    "print(\"Circumference =\",(2*3.14*radius))"
   ]
  },
  {
   "cell_type": "markdown",
   "metadata": {},
   "source": [
    "### 08) WAP to print Multiplication table of given number without using loops."
   ]
  },
  {
   "cell_type": "code",
   "execution_count": 9,
   "metadata": {},
   "outputs": [
    {
     "name": "stdout",
     "output_type": "stream",
     "text": [
      "Enter number : 3\n",
      "3 * 1 = 3\n",
      "3 * 2 = 6\n",
      "3 * 3 = 9\n",
      "3 * 4 = 12\n",
      "3 * 5 = 15\n",
      "3 * 6 = 18\n",
      "3 * 7 = 21\n",
      "3 * 8 = 24\n",
      "3 * 9 = 27\n",
      "3 * 10 = 30\n"
     ]
    }
   ],
   "source": [
    "n = int(input(\"Enter number : \"))\n",
    "\n",
    "print(n, \"*\", 1, \"=\", n * 1)\n",
    "print(n, \"*\", 2, \"=\", n * 2)\n",
    "print(n, \"*\", 3, \"=\", n * 3)\n",
    "print(n, \"*\", 4, \"=\", n * 4)\n",
    "print(n, \"*\", 5, \"=\", n * 5)\n",
    "print(n, \"*\", 6, \"=\", n * 6)\n",
    "print(n, \"*\", 7, \"=\", n * 7)\n",
    "print(n, \"*\", 8, \"=\", n * 8)\n",
    "print(n, \"*\", 9, \"=\", n * 9)\n",
    "print(n, \"*\", 10, \"=\", n * 10)\n"
   ]
  },
  {
   "cell_type": "markdown",
   "metadata": {},
   "source": [
    "### 09) WAP to calculate Area of Triangle (hint: a = h * b * 0.5)"
   ]
  },
  {
   "cell_type": "code",
   "execution_count": 10,
   "metadata": {},
   "outputs": [
    {
     "name": "stdout",
     "output_type": "stream",
     "text": [
      "Enter h : 2\n",
      "Enter b : 2\n",
      "Area Of Tringle is :  2.0\n"
     ]
    }
   ],
   "source": [
    "hight = int(input(\"Enter h : \"))\n",
    "base = int(input(\"Enter b : \"))\n",
    "print(\"Area Of Tringle is : \", (hight*base*0.5))"
   ]
  },
  {
   "cell_type": "markdown",
   "metadata": {},
   "source": [
    "### 10) WAP to convert degree to Fahrenheit and vice versa."
   ]
  },
  {
   "cell_type": "code",
   "execution_count": 12,
   "metadata": {},
   "outputs": [
    {
     "name": "stdout",
     "output_type": "stream",
     "text": [
      "Enter Degree : 3\n",
      "3°C = 37.4°F\n"
     ]
    }
   ],
   "source": [
    "c = int(input(\"Enter Degree : \"))\n",
    "f = (c*(9/5))+32\n",
    "print(f\"{c}°C = {f}°F\")"
   ]
  },
  {
   "cell_type": "markdown",
   "metadata": {},
   "source": [
    "### 11) WAP to calculate total marks and Percentage."
   ]
  },
  {
   "cell_type": "code",
   "execution_count": 15,
   "metadata": {},
   "outputs": [
    {
     "name": "stdout",
     "output_type": "stream",
     "text": [
      "Enter Marks of 1 subject : 100\n",
      "Enter Marks of 2 subject : 100\n",
      "Enter Marks of 3 subject: 100\n",
      "Total Of 100 , 100 , and 100 Is  300  Percentage Is :  100.0 %\n"
     ]
    }
   ],
   "source": [
    "sub1 = int(input(\"Enter Marks of 1 subject : \"))\n",
    "sub2 = int(input(\"Enter Marks of 2 subject : \"))\n",
    "sub3 = int(input(\"Enter Marks of 3 subject: \"))\n",
    "print(f\"Total Of {sub1} , {sub2} , and {sub3} Is \",\n",
    "      (sub1+sub2+sub3), \" Percentage Is : \", (sub1+sub2+sub3)/3,\"%\")"
   ]
  },
  {
   "cell_type": "markdown",
   "metadata": {},
   "source": [
    "### 12) Compute distance between two points taking input from the user (Pythagorean Theorem)."
   ]
  },
  {
   "cell_type": "code",
   "execution_count": 16,
   "metadata": {},
   "outputs": [
    {
     "name": "stdout",
     "output_type": "stream",
     "text": [
      "Enter X1 : 1\n",
      "Enter X2 : 10\n",
      "Enter y1 : 20\n",
      "Enter y2 : 2\n",
      "Distance Between 1,10 And 20,2 Is 81.0\n"
     ]
    }
   ],
   "source": [
    "x1 = int(input(\"Enter X1 : \"))\n",
    "x2 = int(input(\"Enter X2 : \"))\n",
    "y1 = int(input(\"Enter y1 : \"))\n",
    "y2 = int(input(\"Enter y2 : \"))\n",
    "distance = (((x1-x2)**2)+((y1-y1)**2)**0.5)\n",
    "print(f\"Distance Between {x1},{x2} And {y1},{y2} Is\",\n",
    "      distance)"
   ]
  },
  {
   "cell_type": "markdown",
   "metadata": {},
   "source": [
    "### 13) WAP to convert seconds into hours, minutes & seconds and print in HH:MM:SS\n",
    "[e.g. 10000 seconds mean 2:46:40 (2 Hours, 46 Minutes, 40Seconds)]"
   ]
  },
  {
   "cell_type": "code",
   "execution_count": 20,
   "metadata": {},
   "outputs": [
    {
     "name": "stdout",
     "output_type": "stream",
     "text": [
      "Enter Seconds : 250\n",
      "0:4:10\n"
     ]
    }
   ],
   "source": [
    "second = int(input(\"Enter Seconds : \"))\n",
    "minit = int(second/60)\n",
    "hour = int(minit/60)\n",
    "second = second%60\n",
    "minit= minit%60\n",
    "\n",
    "print(f\"{hour}:{minit}:{second}\")"
   ]
  },
  {
   "cell_type": "markdown",
   "metadata": {},
   "source": [
    "### 14) WAP to enter distance into kilometer and convert it into meter, feet,inches, and centimeter"
   ]
  },
  {
   "cell_type": "code",
   "execution_count": 21,
   "metadata": {},
   "outputs": [
    {
     "name": "stdout",
     "output_type": "stream",
     "text": [
      "Enter dis. into kilometer : 25\n",
      "25 km = 25000 m\n",
      "25 km = 82025 ft\n",
      "25 km = 984250 inch\n",
      "25 km = 2500000 cm\n"
     ]
    }
   ],
   "source": [
    "km = int(input(\"Enter dis. into kilometer : \"))\n",
    "meter = km*1000\n",
    "feet = km*3281\n",
    "inch = km*39370\n",
    "cm = km*100000\n",
    "\n",
    "print(f\"{km} km = {meter} m\")\n",
    "print(f\"{km} km = {feet} ft\")\n",
    "print(f\"{km} km = {inch} inch\")\n",
    "print(f\"{km} km = {cm} cm\")"
   ]
  },
  {
   "cell_type": "code",
   "execution_count": null,
   "metadata": {},
   "outputs": [],
   "source": []
  }
 ],
 "metadata": {
  "kernelspec": {
   "display_name": "Python 3 (ipykernel)",
   "language": "python",
   "name": "python3"
  },
  "language_info": {
   "codemirror_mode": {
    "name": "ipython",
    "version": 3
   },
   "file_extension": ".py",
   "mimetype": "text/x-python",
   "name": "python",
   "nbconvert_exporter": "python",
   "pygments_lexer": "ipython3",
   "version": "3.9.13"
  },
  "vscode": {
   "interpreter": {
    "hash": "286ddddec6579894237a5e42abb648d1a6e47a0ddf4b055ec532668b67071e82"
   }
  }
 },
 "nbformat": 4,
 "nbformat_minor": 4
}
