{
 "cells": [
  {
   "cell_type": "markdown",
   "metadata": {},
   "source": [
    "\n",
    "<a href='https://www.darshan.ac.in/'> <img src='https://www.darshan.ac.in/Content/media/DU_Logo.svg' width=\"250\" height=\"300\"/></a>\n",
    "<pre>\n",
    "<center><b><h1>Python Programming - 2101CS405</b></center>\n",
    "<center><b><h1>Lab - 2</b></center>    \n",
    "<pre>"
   ]
  },
  {
   "cell_type": "markdown",
   "metadata": {},
   "source": [
    "# if..else.."
   ]
  },
  {
   "cell_type": "markdown",
   "metadata": {},
   "source": [
    "### 01) WAP to check whether the given number is positive or negative."
   ]
  },
  {
   "cell_type": "code",
   "execution_count": 4,
   "metadata": {},
   "outputs": [
    {
     "name": "stdout",
     "output_type": "stream",
     "text": [
      "Enter the number:-4\n",
      "Number is Nagative\n"
     ]
    }
   ],
   "source": [
    "a=int(input(\"Enter the number:\"))\n",
    "\n",
    "if(a>0):\n",
    "    print(\"Number is Positive\")   \n",
    "    \n",
    "else:\n",
    "    print(\"Number is Nagative\")"
   ]
  },
  {
   "cell_type": "markdown",
   "metadata": {},
   "source": [
    "### 02) WAP to check whether the given number is odd or even"
   ]
  },
  {
   "cell_type": "code",
   "execution_count": 7,
   "metadata": {},
   "outputs": [
    {
     "name": "stdout",
     "output_type": "stream",
     "text": [
      "Enter the number:2\n",
      "The number is even\n"
     ]
    }
   ],
   "source": [
    "a=int(input(\"Enter the number:\"))\n",
    "\n",
    "\n",
    "if (a % 2) == 0:\n",
    "\n",
    "       print (\"The number is even\")           \n",
    "else:\n",
    "      print (\"The provided number is odd\")\n",
    "\n",
    "\n",
    "\n"
   ]
  },
  {
   "cell_type": "markdown",
   "metadata": {},
   "source": [
    "### 03) WAP to find out largest number from given two numbers using simple if and ternary operator."
   ]
  },
  {
   "cell_type": "code",
   "execution_count": 12,
   "metadata": {},
   "outputs": [
    {
     "name": "stdout",
     "output_type": "stream",
     "text": [
      "Enter First number1\n",
      "Enter Second number2\n",
      "Maximum number is 2\n"
     ]
    }
   ],
   "source": [
    "a=int(input(\"Enter First number\"))\n",
    "b=int(input(\"Enter Second number\"))\n",
    "\n",
    "max=a if(a>b) else b\n",
    "\n",
    "print(\"Maximum number is\" ,max)"
   ]
  },
  {
   "cell_type": "markdown",
   "metadata": {},
   "source": [
    "### 04) WAP to find out largest number from given three numbers."
   ]
  },
  {
   "cell_type": "code",
   "execution_count": 20,
   "metadata": {},
   "outputs": [
    {
     "name": "stdout",
     "output_type": "stream",
     "text": [
      "Enter First number3\n",
      "Enter Second number2\n",
      "Enter Third number1\n",
      "A is Biggest\n"
     ]
    }
   ],
   "source": [
    "a=int(input(\"Enter First number\"))\n",
    "b=int(input(\"Enter Second number\"))\n",
    "c=int(input(\"Enter Third number\"))\n",
    "\n",
    "\n",
    "if(a>b):\n",
    "    if(a>c):\n",
    "         print(\"A is Biggest\")\n",
    "    else:\n",
    "        print(\"C is biggest\")\n",
    "        \n",
    "else:\n",
    "    if(b>c):\n",
    "         print(\"B is Biggest\")\n",
    " \n",
    "    else:\n",
    "         print(\"C is Biggest\")"
   ]
  },
  {
   "cell_type": "markdown",
   "metadata": {},
   "source": [
    "\n",
    "### 05) WAP to check whether the given year is leap year or not.\n",
    "[If a year can be divisible by 4 but not divisible by 100 then it is leap year but if it is divisible by 400 then it is leap year]"
   ]
  },
  {
   "cell_type": "code",
   "execution_count": 26,
   "metadata": {},
   "outputs": [
    {
     "name": "stdout",
     "output_type": "stream",
     "text": [
      "Enter the Year2012\n",
      "This is leap year\n"
     ]
    }
   ],
   "source": [
    "year=int(input(\"Enter the Year\"))\n",
    "\n",
    "if(year%4)==0:\n",
    "    \n",
    "\n",
    "    if(year%100)!=0:\n",
    "        print(\"This is leap year\")\n",
    "else: \n",
    "     print(\"This is not leap year\")"
   ]
  },
  {
   "cell_type": "markdown",
   "metadata": {},
   "source": [
    "### 06) WAP in python to display the name of the day according to the number given by the user"
   ]
  },
  {
   "cell_type": "code",
   "execution_count": 1,
   "metadata": {},
   "outputs": [
    {
     "name": "stdout",
     "output_type": "stream",
     "text": [
      "Enter the number3\n",
      "TUESDAY\n"
     ]
    }
   ],
   "source": [
    "num=int(input(\"Enter the number\"))\n",
    "\n",
    "if (num==1):\n",
    "    print(\"SUNDAY\")\n",
    "    \n",
    "elif(num==2):\n",
    "        print(\"MONDAY\")\n",
    "        \n",
    "elif(num==3):\n",
    "        print(\"TUESDAY\")   \n",
    "        \n",
    "elif(num==4):\n",
    "        print(\"WEDNESDAY\")  \n",
    "        \n",
    "elif(num==5):\n",
    "        print(\"THURSDAY\")  \n",
    "        \n",
    "elif(num==6):\n",
    "        print(\"FRIDAY\") \n",
    "        \n",
    "else:\n",
    "        print(\"SATURDAY\")        "
   ]
  },
  {
   "cell_type": "markdown",
   "metadata": {},
   "source": [
    "### 07) WAP to implement simple calculator which performs (add,sub,mul,div) of two no. based on user input."
   ]
  },
  {
   "cell_type": "code",
   "execution_count": 2,
   "metadata": {},
   "outputs": [
    {
     "name": "stdout",
     "output_type": "stream",
     "text": [
      "Press 1 for Addition\n",
      "Press 2 for Substraction\n",
      "Press 3 for Multiplication\n",
      "Press 4 for Division\n",
      "3\n",
      "Enter the first number20\n",
      "Enter the second number30\n",
      "Multiplication of First and Second number is = 600\n"
     ]
    }
   ],
   "source": [
    "print(\"Press 1 for Addition\")\n",
    "print(\"Press 2 for Substraction\")\n",
    "print(\"Press 3 for Multiplication\")\n",
    "print(\"Press 4 for Division\")\n",
    "\n",
    "a=int(input())\n",
    "num1=int(input(\"Enter the first number\"))\n",
    "num2=int(input(\"Enter the second number\"))\n",
    "    \n",
    "if(a==1):\n",
    "    ans=num1+num2\n",
    "    \n",
    "    print(\"Addition of First and Second number is =\"  , ans)\n",
    "    \n",
    "elif(a==2):\n",
    "    ans=num1-num2\n",
    "    \n",
    "    print(\"Substraction of First and Second number is =\"  , ans)    \n",
    "    \n",
    "elif(a==3):\n",
    "    ans=num1*num2\n",
    "    \n",
    "    print(\"Multiplication of First and Second number is =\"  , ans)       \n",
    "    \n",
    "elif(a==4):\n",
    "    ans=num1/num2\n",
    "    \n",
    "    print(\"Division of First and Second number is =\"  , ans)      "
   ]
  },
  {
   "cell_type": "markdown",
   "metadata": {},
   "source": [
    "### 08) WAP to calculate electricity bill based on following criteria. Which takes the unit from the user.\n",
    "a. First 1 to 50 units – Rs. 2.60/unit</br>\n",
    "b. Next 50 to 100 units – Rs. 3.25/unit</br>\n",
    "c. Next 100 to 200 units – Rs. 5.26/unit</br>\n",
    "d. above 200 units – Rs. 8.45/unit"
   ]
  },
  {
   "cell_type": "code",
   "execution_count": 6,
   "metadata": {},
   "outputs": [
    {
     "name": "stdout",
     "output_type": "stream",
     "text": [
      "Enter Units : 20\n",
      "For 20 Units Bill Is Rs. 52.0\n"
     ]
    }
   ],
   "source": [
    "unit = int(input(\"Enter Units : \"))\n",
    "if unit >= 1 and unit <= 50:\n",
    "    print(f\"For {unit} Units Bill Is Rs.\", (unit*2.60))\n",
    "elif unit <= 100:\n",
    "    print(f\"For {unit} Units Bill Is Rs.\", (130+(unit-50)*3.25))\n",
    "elif unit <= 200:\n",
    "    print(f\"For {unit} Units Bill Is Rs.\", (292.5+(unit-100)*5.26))\n",
    "elif unit > 200:\n",
    "    print(f\"For {unit} Units Bill Is Rs.\", (818.5+(unit-200)*8.45))"
   ]
  },
  {
   "cell_type": "markdown",
   "metadata": {},
   "source": [
    "### 01) WAP to read marks of five subjects. Calculate percentage and print class accordingly. \n",
    "Fail below 35 </br>\n",
    "Pass Class between 35 to 45 </br>\n",
    "Second Class</br>\n",
    "between 45 to 60</br>\n",
    "First Class between 60 to 70</br> \n",
    "Distinction if more than 70"
   ]
  },
  {
   "cell_type": "code",
   "execution_count": 7,
   "metadata": {},
   "outputs": [
    {
     "name": "stdout",
     "output_type": "stream",
     "text": [
      "Enter marks of 1st Subject : 20\n",
      "Enter marks of 2nd Subject : 20\n",
      "Enter marks of 3rd Subject : 20\n",
      "Enter marks of 4th Subject : 20\n",
      "Enter marks of 5th Subject : 20\n",
      "Class : Fail\n"
     ]
    }
   ],
   "source": [
    "num1 = int(input(\"Enter marks of 1st Subject : \"))\n",
    "num2 = int(input(\"Enter marks of 2nd Subject : \"))\n",
    "num3 = int(input(\"Enter marks of 3rd Subject : \"))\n",
    "num4 = int(input(\"Enter marks of 4th Subject : \"))\n",
    "num5 = int(input(\"Enter marks of 5th Subject : \"))\n",
    "\n",
    "percentage = (num1+num2+num3+num4+num5)/5\n",
    "\n",
    "if percentage<35:\n",
    "    print(\"Class : Fail\")\n",
    "elif percentage>=35 and percentage<45:\n",
    "    print(\"Class : Pass\")\n",
    "elif percentage<60:\n",
    "    print(\"Class : Second\")\n",
    "elif percentage < 70:\n",
    "    print(\"Class : First\")\n",
    "else:\n",
    "    print(\"Class : Distiction\")"
   ]
  },
  {
   "cell_type": "markdown",
   "metadata": {},
   "source": [
    "### 02) WAP to find out the Maximum and Minimum number from given 4 numbers."
   ]
  },
  {
   "cell_type": "code",
   "execution_count": 8,
   "metadata": {},
   "outputs": [
    {
     "name": "stdout",
     "output_type": "stream",
     "text": [
      "Enter A Number : 20\n",
      "Enter B Number : 26\n",
      "Enter C Number : 29\n",
      "Enter D Number : 38\n",
      "38 is Maximum\n",
      "20 is Minimum\n"
     ]
    }
   ],
   "source": [
    "a = int(input(\"Enter A Number : \"))\n",
    "b = int(input(\"Enter B Number : \"))\n",
    "c = int(input(\"Enter C Number : \"))\n",
    "d = int(input(\"Enter D Number : \"))\n",
    "\n",
    "print(a if a > b and a > c and a > d else b if b >\n",
    "      c and b > d else c if c > d else d, \"is Maximum\")\n",
    "\n",
    "print(a if a < b and a < c and a < d else b if b <\n",
    "      c and b < d else c if c < d else d, \"is Minimum\")"
   ]
  },
  {
   "cell_type": "markdown",
   "metadata": {},
   "source": [
    "### 03) WAP to input an integer number and check the last digit of number is even or odd."
   ]
  },
  {
   "cell_type": "code",
   "execution_count": 9,
   "metadata": {},
   "outputs": [
    {
     "name": "stdout",
     "output_type": "stream",
     "text": [
      "Enter a number : 10\n",
      "Last digit of 10 is even\n"
     ]
    }
   ],
   "source": [
    "n1 = int(input(\"Enter a number : \"))\n",
    "if (n1%10)%2==0:\n",
    "    print(f\"Last digit of {n1} is even\")\n",
    "else:\n",
    "    print(f\"Last digit of {n1} is odd\")"
   ]
  },
  {
   "cell_type": "markdown",
   "metadata": {},
   "source": [
    "### 04) WAP to determine the roots of the equation ax2+bx+c=0."
   ]
  },
  {
   "cell_type": "code",
   "execution_count": 10,
   "metadata": {},
   "outputs": [
    {
     "name": "stdout",
     "output_type": "stream",
     "text": [
      "Enter a : 30\n",
      "Enter b : 25\n",
      "Enter c : 36\n",
      "complex root is : -0.4166666666666667 + i 1.0131085276952756\n",
      "complex root is : -0.4166666666666667 - i 1.0131085276952756\n"
     ]
    }
   ],
   "source": [
    "import math\n",
    "a = int(input(\"Enter a : \"))\n",
    "b = int(input(\"Enter b : \"))\n",
    "c = int(input(\"Enter c : \"))\n",
    "\n",
    "d = (b*b)-(4*a*c)\n",
    "sqrtOfd = math.sqrt(abs(d))\n",
    "if d==0:\n",
    "    print(f\"Both same roots are : {(-b)/(2*a)}\")\n",
    "elif d>0:\n",
    "    print(f\"Real root is : {(-b+sqrtOfd)/(2*a)}\")\n",
    "    print(f\"Real root is : {(-b-sqrtOfd)/(2*a)}\")\n",
    "else:\n",
    "    print(f\"complex root is : {((-b)/(2*a))} + i {(sqrtOfd/(2*a))}\")\n",
    "    print(f\"complex root is : {((-b)/(2*a))} - i {(sqrtOfd/(2*a))}\")"
   ]
  },
  {
   "cell_type": "code",
   "execution_count": null,
   "metadata": {},
   "outputs": [],
   "source": []
  }
 ],
 "metadata": {
  "kernelspec": {
   "display_name": "Python 3 (ipykernel)",
   "language": "python",
   "name": "python3"
  },
  "language_info": {
   "codemirror_mode": {
    "name": "ipython",
    "version": 3
   },
   "file_extension": ".py",
   "mimetype": "text/x-python",
   "name": "python",
   "nbconvert_exporter": "python",
   "pygments_lexer": "ipython3",
   "version": "3.9.13"
  }
 },
 "nbformat": 4,
 "nbformat_minor": 4
}
