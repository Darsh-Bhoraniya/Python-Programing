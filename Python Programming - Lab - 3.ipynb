{
 "cells": [
  {
   "cell_type": "markdown",
   "metadata": {},
   "source": [
    "\n",
    "<a href='https://www.darshan.ac.in/'> <img src='https://www.darshan.ac.in/Content/media/DU_Logo.svg' width=\"250\" height=\"300\"/></a>\n",
    "<pre>\n",
    "<center><b><h1>Python Programming - 2101CS405</b></center>\n",
    "<center><b><h1>Lab - 3</b></center>    \n",
    "<pre>"
   ]
  },
  {
   "cell_type": "markdown",
   "metadata": {},
   "source": [
    "# for and while loop"
   ]
  },
  {
   "cell_type": "markdown",
   "metadata": {},
   "source": [
    "### 01) WAP to print 1 to 10"
   ]
  },
  {
   "cell_type": "code",
   "execution_count": 2,
   "metadata": {},
   "outputs": [
    {
     "name": "stdout",
     "output_type": "stream",
     "text": [
      "1\n",
      "2\n",
      "3\n",
      "4\n",
      "5\n",
      "6\n",
      "7\n",
      "8\n",
      "9\n",
      "10\n"
     ]
    }
   ],
   "source": [
    "i=1;\n",
    "while i < 11:\n",
    "  print(i)\n",
    "  i += 1"
   ]
  },
  {
   "cell_type": "markdown",
   "metadata": {},
   "source": [
    "### 02) WAP to print 1 to n"
   ]
  },
  {
   "cell_type": "code",
   "execution_count": 6,
   "metadata": {},
   "outputs": [
    {
     "name": "stdout",
     "output_type": "stream",
     "text": [
      "Enter number : 10\n",
      "1\n",
      "2\n",
      "3\n",
      "4\n",
      "5\n",
      "6\n",
      "7\n",
      "8\n",
      "9\n",
      "10\n"
     ]
    }
   ],
   "source": [
    "n = int(input(\"Enter number : \"))\n",
    "i=1;\n",
    "while i <= n:\n",
    "  print(i)\n",
    "  i += 1"
   ]
  },
  {
   "cell_type": "markdown",
   "metadata": {},
   "source": [
    "### 03) WAP to print odd numbers between 1 to n"
   ]
  },
  {
   "cell_type": "code",
   "execution_count": 7,
   "metadata": {},
   "outputs": [
    {
     "name": "stdout",
     "output_type": "stream",
     "text": [
      "Enter number : 5\n",
      "1\n",
      "5\n"
     ]
    }
   ],
   "source": [
    "n = int(input(\"Enter number : \"))\n",
    "i=1;\n",
    "while i <= n:\n",
    "  if n%i==0:\n",
    "    print(i)\n",
    "  i += 1"
   ]
  },
  {
   "cell_type": "markdown",
   "metadata": {},
   "source": [
    "### 04) WAP to print numbers between two given numbers which is divisible by 2 but not divisible by 3"
   ]
  },
  {
   "cell_type": "code",
   "execution_count": 12,
   "metadata": {},
   "outputs": [
    {
     "name": "stdout",
     "output_type": "stream",
     "text": [
      "Enter m:1\n",
      "Enter n:6\n",
      "2\n",
      "4\n"
     ]
    }
   ],
   "source": [
    "m=int(input('Enter m:'))\n",
    "n=int(input('Enter n:'))\n",
    "for i in range(m,n+1):\n",
    "    if(i%2==0 and i%3!=0):\n",
    "        print(i)"
   ]
  },
  {
   "cell_type": "markdown",
   "metadata": {},
   "source": [
    "### 05) WAP to print sum of 1 to n numbers"
   ]
  },
  {
   "cell_type": "code",
   "execution_count": 2,
   "metadata": {},
   "outputs": [
    {
     "name": "stdout",
     "output_type": "stream",
     "text": [
      "Enter m:10\n",
      "55\n"
     ]
    }
   ],
   "source": [
    "m=int(input('Enter m:'))\n",
    "temp=0\n",
    "for i in range(1,m+1):\n",
    "    temp=temp+i\n",
    "print(temp)"
   ]
  },
  {
   "cell_type": "markdown",
   "metadata": {},
   "source": [
    "### 06) WAP to print sum of series 1 + 4 + 9 + 16 + 25 + 36 + ...n"
   ]
  },
  {
   "cell_type": "code",
   "execution_count": 26,
   "metadata": {},
   "outputs": [
    {
     "name": "stdout",
     "output_type": "stream",
     "text": [
      "Enter number n:3\n",
      "14\n"
     ]
    }
   ],
   "source": [
    "n=int(input(\"Enter number n:\"))\n",
    "temp=0\n",
    "sum=0\n",
    "for i in range(1,n+1):\n",
    "    temp=i*i\n",
    "    sum=sum+temp\n",
    "print(sum)"
   ]
  },
  {
   "cell_type": "markdown",
   "metadata": {},
   "source": [
    "### 07) WAP to print sum of series 1 – 2 + 3 – 4 + 5 – 6 + 7 ... n"
   ]
  },
  {
   "cell_type": "code",
   "execution_count": 1,
   "metadata": {},
   "outputs": [
    {
     "name": "stdout",
     "output_type": "stream",
     "text": [
      "Enter the value of n : 10\n",
      "-5\n"
     ]
    }
   ],
   "source": [
    "n = int(input(\"Enter the value of n : \"))\n",
    "sum=0\n",
    "for i in range(1,n+1):\n",
    "    if(i%2==0):\n",
    "        sum=sum-i\n",
    "    else:\n",
    "        sum=sum+i\n",
    "print(sum)"
   ]
  },
  {
   "cell_type": "markdown",
   "metadata": {},
   "source": [
    "### 08) WAP to print multiplication table of given number."
   ]
  },
  {
   "cell_type": "code",
   "execution_count": 3,
   "metadata": {},
   "outputs": [
    {
     "name": "stdout",
     "output_type": "stream",
     "text": [
      "Enter A Number : 5\n",
      "Multiplication Table of 5:\n",
      "5 x 1 = 5\n",
      "5 x 2 = 10\n",
      "5 x 3 = 15\n",
      "5 x 4 = 20\n",
      "5 x 5 = 25\n",
      "5 x 6 = 30\n",
      "5 x 7 = 35\n",
      "5 x 8 = 40\n",
      "5 x 9 = 45\n",
      "5 x 10 = 50\n"
     ]
    }
   ],
   "source": [
    "n= int(input(\"Enter A Number : \"))\n",
    "print(f\"Multiplication Table of {n}:\")\n",
    "for i in range(1,11):\n",
    "    print(f\"{n} x {i} = {n*i}\")"
   ]
  },
  {
   "cell_type": "markdown",
   "metadata": {},
   "source": [
    "### 09) WAP to find factorial of the given number"
   ]
  },
  {
   "cell_type": "code",
   "execution_count": 4,
   "metadata": {},
   "outputs": [
    {
     "name": "stdout",
     "output_type": "stream",
     "text": [
      "Enter the value of n : 5\n",
      "{120}\n"
     ]
    }
   ],
   "source": [
    "n = int(input(\"Enter the value of n : \"))\n",
    "fact=1\n",
    "for i in range(2,n+1):\n",
    "    fact*=i\n",
    "print(fact)"
   ]
  },
  {
   "cell_type": "markdown",
   "metadata": {},
   "source": [
    "### 10) WAP to find factors of the given number"
   ]
  },
  {
   "cell_type": "code",
   "execution_count": 5,
   "metadata": {},
   "outputs": [
    {
     "name": "stdout",
     "output_type": "stream",
     "text": [
      "Enter the value of n : 3\n",
      "1\n",
      "3\n"
     ]
    }
   ],
   "source": [
    "n = int(input(\"Enter the value of n : \"))\n",
    "for i in range(1,n+1):\n",
    "    if(n%i==0):\n",
    "        print(i)"
   ]
  },
  {
   "cell_type": "markdown",
   "metadata": {},
   "source": [
    "### 11) WAP to find whether the given number is prime or not."
   ]
  },
  {
   "cell_type": "code",
   "execution_count": 11,
   "metadata": {},
   "outputs": [
    {
     "name": "stdout",
     "output_type": "stream",
     "text": [
      "Enter the value of n : 9\n",
      "9 is not a Prime Number\n"
     ]
    }
   ],
   "source": [
    "n = int(input(\"Enter the value of n : \"))\n",
    "flag=0\n",
    "for i in range(2,n):\n",
    "    if(n%i==0):\n",
    "        flag=1\n",
    "        break\n",
    "if(flag==0):\n",
    "    print(\" Prime Number\")\n",
    "else:\n",
    "    print(\"not Prime Number\")"
   ]
  },
  {
   "cell_type": "markdown",
   "metadata": {},
   "source": [
    "### 12) WAP to print sum of digits of given number"
   ]
  },
  {
   "cell_type": "code",
   "execution_count": 10,
   "metadata": {},
   "outputs": [
    {
     "name": "stdout",
     "output_type": "stream",
     "text": [
      "Enter the value of n : 3\n",
      "Sum of digits of 3 are:\n",
      "3\n"
     ]
    }
   ],
   "source": [
    "n = int(input(\"Enter the value of n : \"))\n",
    "sum=0\n",
    "while (n != 0):\n",
    "        sum = sum + (n % 10)\n",
    "        n = n//10\n",
    "print(sum)"
   ]
  },
  {
   "cell_type": "markdown",
   "metadata": {},
   "source": [
    "### 13) WAP to check whether the given number is palindrome or not"
   ]
  },
  {
   "cell_type": "code",
   "execution_count": 9,
   "metadata": {},
   "outputs": [
    {
     "name": "stdout",
     "output_type": "stream",
     "text": [
      "Enter the value of n : 10\n",
      "10\n",
      "The number is not a palindrome number\n"
     ]
    }
   ],
   "source": [
    "n = int(input(\"Enter the value of n : \"))\n",
    "temp=n\n",
    "rev=0\n",
    "print(n)\n",
    "while(n>0):\n",
    "    dig=n%10\n",
    "    rev=rev*10+dig\n",
    "    n=n//10\n",
    "if(temp==rev):\n",
    "    print(\"The number is a palindrome number\")\n",
    "else:\n",
    "    print(\"The number is not a palindrome number\")"
   ]
  },
  {
   "cell_type": "markdown",
   "metadata": {},
   "source": [
    "### 01) WAP to check whether the given number is Armstrong or not."
   ]
  },
  {
   "cell_type": "code",
   "execution_count": 12,
   "metadata": {},
   "outputs": [
    {
     "name": "stdout",
     "output_type": "stream",
     "text": [
      "Enter a number: 5\n",
      "not an Armstrong number\n"
     ]
    }
   ],
   "source": [
    "n = int(input(\"Enter a number: \"))\n",
    "sum = 0\n",
    "temp = n\n",
    "while temp > 0:\n",
    "    digit = temp % 10\n",
    "    sum += digit ** 3\n",
    "    temp //= 10\n",
    "if n == sum:\n",
    "    print(\" Armstrong number\")\n",
    "else:\n",
    "    print(\"not an Armstrong number\")"
   ]
  },
  {
   "cell_type": "markdown",
   "metadata": {},
   "source": [
    "### 02) WAP to find out prime numbers between given two numbers."
   ]
  },
  {
   "cell_type": "code",
   "execution_count": 1,
   "metadata": {},
   "outputs": [
    {
     "name": "stdout",
     "output_type": "stream",
     "text": [
      "Enter the 1st value:9\n",
      "Enter the 2nd value:21\n",
      "11\n",
      "13\n",
      "17\n",
      "19\n"
     ]
    }
   ],
   "source": [
    "n=int(input(\"Enter the 1st value:\"))\n",
    "m=int(input(\"Enter the 2nd value:\"))\n",
    "flag=0\n",
    "for i in range(n,m):\n",
    "    for j in range(2,i):\n",
    "        if(i%j==0):\n",
    "            flag=1\n",
    "            break\n",
    "    if(flag==0):\n",
    "        print(i)\n",
    "    else:\n",
    "        flag=0"
   ]
  },
  {
   "cell_type": "markdown",
   "metadata": {},
   "source": [
    "### 03) WAP to calculate x^y without using any function."
   ]
  },
  {
   "cell_type": "code",
   "execution_count": 2,
   "metadata": {},
   "outputs": [
    {
     "name": "stdout",
     "output_type": "stream",
     "text": [
      "Enter the value of x : 4\n",
      "Enter the value of y : 3\n",
      "64\n"
     ]
    }
   ],
   "source": [
    "x = int(input(\"Enter the value of x : \"))\n",
    "y = int(input(\"Enter the value of y : \"))\n",
    "pow=x\n",
    "for i in range(2,y+1):\n",
    "    pow*=x\n",
    "print(pow)"
   ]
  },
  {
   "cell_type": "code",
   "execution_count": null,
   "metadata": {},
   "outputs": [],
   "source": []
  },
  {
   "cell_type": "markdown",
   "metadata": {},
   "source": [
    "### 04) WAP to check whether the given number is perfect or not.\n",
    "[Sum of factors including 1 excluding number itself]"
   ]
  },
  {
   "cell_type": "code",
   "execution_count": 13,
   "metadata": {},
   "outputs": [
    {
     "name": "stdout",
     "output_type": "stream",
     "text": [
      "Enter the value of n:5\n",
      "not a perfect number\n"
     ]
    }
   ],
   "source": [
    "n=int(input(\"Enter the value of n:\")) \n",
    "sum=0  \n",
    "for i in range(1,n):  \n",
    "    if (n%i==0):  \n",
    "        sum=sum+i  \n",
    "if(sum==n):  \n",
    "    print(\"a perfect number\")  \n",
    "else:  \n",
    "    print(\"not a perfect number\") "
   ]
  },
  {
   "cell_type": "markdown",
   "metadata": {},
   "source": [
    "### 05) WAP to find the sum of 1 + (1+2) + (1+2+3) + (1+2+3+4)+...+(1+2+3+4+....+n)"
   ]
  },
  {
   "cell_type": "code",
   "execution_count": 16,
   "metadata": {},
   "outputs": [
    {
     "name": "stdout",
     "output_type": "stream",
     "text": [
      "Enter the value of n : 5\n",
      "35\n"
     ]
    }
   ],
   "source": [
    "n = int(input(\"Enter the value of n : \"))\n",
    "sum=0\n",
    "for i in range(1,n+1):\n",
    "    for i in range(1,i+1):\n",
    "        sum+=i\n",
    "print(sum)"
   ]
  },
  {
   "cell_type": "markdown",
   "metadata": {},
   "source": [
    "### 06) WAP to print Multiplication Table up to n"
   ]
  },
  {
   "cell_type": "code",
   "execution_count": 1,
   "metadata": {},
   "outputs": [
    {
     "name": "stdout",
     "output_type": "stream",
     "text": [
      "Enter the number to print the multiplication table of: 5\n",
      "The Multiplication Table of:  1\n",
      "1 x 1 = 1\n",
      "1 x 2 = 2\n",
      "1 x 3 = 3\n",
      "1 x 4 = 4\n",
      "1 x 5 = 5\n",
      "1 x 6 = 6\n",
      "1 x 7 = 7\n",
      "1 x 8 = 8\n",
      "1 x 9 = 9\n",
      "1 x 10 = 10\n",
      "The Multiplication Table of:  2\n",
      "2 x 1 = 2\n",
      "2 x 2 = 4\n",
      "2 x 3 = 6\n",
      "2 x 4 = 8\n",
      "2 x 5 = 10\n",
      "2 x 6 = 12\n",
      "2 x 7 = 14\n",
      "2 x 8 = 16\n",
      "2 x 9 = 18\n",
      "2 x 10 = 20\n",
      "The Multiplication Table of:  3\n",
      "3 x 1 = 3\n",
      "3 x 2 = 6\n",
      "3 x 3 = 9\n",
      "3 x 4 = 12\n",
      "3 x 5 = 15\n",
      "3 x 6 = 18\n",
      "3 x 7 = 21\n",
      "3 x 8 = 24\n",
      "3 x 9 = 27\n",
      "3 x 10 = 30\n",
      "The Multiplication Table of:  4\n",
      "4 x 1 = 4\n",
      "4 x 2 = 8\n",
      "4 x 3 = 12\n",
      "4 x 4 = 16\n",
      "4 x 5 = 20\n",
      "4 x 6 = 24\n",
      "4 x 7 = 28\n",
      "4 x 8 = 32\n",
      "4 x 9 = 36\n",
      "4 x 10 = 40\n",
      "The Multiplication Table of:  5\n",
      "5 x 1 = 5\n",
      "5 x 2 = 10\n",
      "5 x 3 = 15\n",
      "5 x 4 = 20\n",
      "5 x 5 = 25\n",
      "5 x 6 = 30\n",
      "5 x 7 = 35\n",
      "5 x 8 = 40\n",
      "5 x 9 = 45\n",
      "5 x 10 = 50\n"
     ]
    }
   ],
   "source": [
    "n = int(input (\"Enter the number to print the multiplication table of: \"))            \n",
    "for i in range(1, n+1):    \n",
    "    print (\"The Multiplication Table of: \", i)   \n",
    "    for j in range(1,11):\n",
    "         print(f\"{i} x {j} = {i*j}\") "
   ]
  },
  {
   "cell_type": "code",
   "execution_count": null,
   "metadata": {},
   "outputs": [],
   "source": []
  }
 ],
 "metadata": {
  "kernelspec": {
   "display_name": "Python 3 (ipykernel)",
   "language": "python",
   "name": "python3"
  },
  "language_info": {
   "codemirror_mode": {
    "name": "ipython",
    "version": 3
   },
   "file_extension": ".py",
   "mimetype": "text/x-python",
   "name": "python",
   "nbconvert_exporter": "python",
   "pygments_lexer": "ipython3",
   "version": "3.9.13"
  }
 },
 "nbformat": 4,
 "nbformat_minor": 4
}
