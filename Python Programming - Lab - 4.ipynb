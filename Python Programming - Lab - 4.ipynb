{
 "cells": [
  {
   "cell_type": "markdown",
   "metadata": {},
   "source": [
    "\n",
    "<a href='https://www.darshan.ac.in/'> <img src='https://www.darshan.ac.in/Content/media/DU_Logo.svg' width=\"250\" height=\"300\"/></a>\n",
    "<pre>\n",
    "<center><b><h1>Python Programming - 2101CS405</b></center>\n",
    "<center><b><h1>Lab - 4</b></center>    \n",
    "<pre>"
   ]
  },
  {
   "cell_type": "markdown",
   "metadata": {},
   "source": [
    "# String"
   ]
  },
  {
   "cell_type": "markdown",
   "metadata": {},
   "source": [
    "### 01) WAP to check given string is palindrome or not."
   ]
  },
  {
   "cell_type": "code",
   "execution_count": 2,
   "metadata": {},
   "outputs": [
    {
     "name": "stdout",
     "output_type": "stream",
     "text": [
      "Enter A String : madam\n",
      "Reverse String :  madam\n",
      "Is Palindrome\n"
     ]
    }
   ],
   "source": [
    "str = input(\"Enter A String : \")\n",
    "str_rev = str[::-1]\n",
    "print(\"Reverse String : \",str_rev)\n",
    "if str == str_rev:\n",
    "    print(\"Is Palindrome\")\n",
    "else:\n",
    "    print(\"Is Not Palindrome\")"
   ]
  },
  {
   "cell_type": "markdown",
   "metadata": {},
   "source": [
    "### 02) WAP to reverse the words in given string."
   ]
  },
  {
   "cell_type": "code",
   "execution_count": 1,
   "metadata": {},
   "outputs": [
    {
     "name": "stdout",
     "output_type": "stream",
     "text": [
      "Enter  String : darsh bhoraaniay\n",
      "['darsh', 'bhoraaniay']\n",
      "bhoraaniay darsh\n"
     ]
    }
   ],
   "source": [
    "s = input(\"Enter  String : \")\n",
    "words =  s.split()\n",
    "print(words)\n",
    "words = words[::-1]\n",
    "print(\" \".join(words))"
   ]
  },
  {
   "cell_type": "markdown",
   "metadata": {},
   "source": [
    "### 03) WAP to remove ith character from given string"
   ]
  },
  {
   "cell_type": "code",
   "execution_count": 2,
   "metadata": {},
   "outputs": [
    {
     "name": "stdout",
     "output_type": "stream",
     "text": [
      "Enter A String : darshn\n",
      "Enter The Index What You Want To Remove : 5\n",
      "darshn\n",
      "5\n",
      "darsh\n"
     ]
    }
   ],
   "source": [
    "a = input(\"Enter A String : \")\n",
    "\n",
    "index = int(input(\"Enter The Index What You Want To Remove : \"))\n",
    "RemoveIndex = -1\n",
    "s = \"\"\n",
    "\n",
    "for i in a:\n",
    "    RemoveIndex += 1\n",
    "    if(index == RemoveIndex):\n",
    "        pass\n",
    "    else:\n",
    "        s += i\n",
    "print(a)\n",
    "print(index)\n",
    "print(s)"
   ]
  },
  {
   "cell_type": "markdown",
   "metadata": {},
   "source": [
    "### 04) WAP to find length of String without using len function."
   ]
  },
  {
   "cell_type": "code",
   "execution_count": 4,
   "metadata": {},
   "outputs": [
    {
     "name": "stdout",
     "output_type": "stream",
     "text": [
      "Enter A String : darsh\n",
      "Length Of  darsh is 5\n"
     ]
    }
   ],
   "source": [
    "s= input(\"Enter A String : \")\n",
    "count = 0\n",
    "for i in s:\n",
    "    count+=1\n",
    "print(\"Length Of  {0} is {1}\".format(s,count))"
   ]
  },
  {
   "cell_type": "markdown",
   "metadata": {},
   "source": [
    "### 05) WAP to print even length word in string."
   ]
  },
  {
   "cell_type": "code",
   "execution_count": 5,
   "metadata": {},
   "outputs": [
    {
     "name": "stdout",
     "output_type": "stream",
     "text": [
      "Enter valaue of String:=>this is the game\n",
      "this\n",
      "is\n",
      "game\n"
     ]
    }
   ],
   "source": [
    "string=input(\"Enter valaue of String:=>\")\n",
    "s=string.split(' ')\n",
    "for i in s:\n",
    "    if len(i)%2==0:\n",
    "        print(i) "
   ]
  },
  {
   "cell_type": "markdown",
   "metadata": {},
   "source": [
    "### 06) WAP to count numbers of vowels in given string."
   ]
  },
  {
   "cell_type": "code",
   "execution_count": 7,
   "metadata": {},
   "outputs": [
    {
     "name": "stdout",
     "output_type": "stream",
     "text": [
      "Enter Value of stringdarshb\n",
      "Number of vowels in the given string is:  1\n"
     ]
    }
   ],
   "source": [
    "s = input(\"Enter Value of string\")\n",
    "count = 0\n",
    "i = 0\n",
    "for i in range(len(s)):\n",
    "    if (\n",
    "        (s[i] == \"a\")\n",
    "        or (s[i] == \"e\")\n",
    "        or (s[i] == \"i\")\n",
    "        or (s[i] == \"o\")\n",
    "        or (s[i] == \"u\")\n",
    "        or (s[i] == \"A\")\n",
    "        or (s[i] == \"E\")\n",
    "        or (s[i] == \"I\")\n",
    "        or (s[i] == \"O\")\n",
    "        or (s[i] == \"U\")\n",
    "    ):\n",
    "        count =count+ 1\n",
    "\n",
    "print(\"Number of vowels in the given string is: \", count)"
   ]
  },
  {
   "cell_type": "markdown",
   "metadata": {},
   "source": [
    "### 07) WAP to convert given array to string."
   ]
  },
  {
   "cell_type": "code",
   "execution_count": 6,
   "metadata": {},
   "outputs": [
    {
     "name": "stdout",
     "output_type": "stream",
     "text": [
      "Enter A Element In List : darsh sujal\n",
      "['darsh', 'sujal']\n",
      "darsh sujal\n"
     ]
    }
   ],
   "source": [
    "List = input(\"Enter A Element In List : \").split()\n",
    "print(List)\n",
    "print(\" \".join(List))"
   ]
  },
  {
   "cell_type": "markdown",
   "metadata": {},
   "source": [
    "### 01) WAP to find out duplicate characters in given string."
   ]
  },
  {
   "cell_type": "code",
   "execution_count": 2,
   "metadata": {},
   "outputs": [
    {
     "name": "stdout",
     "output_type": "stream",
     "text": [
      "Enter Any String : darshan\n",
      "Duplicate Character in darshan Is :  a\n"
     ]
    }
   ],
   "source": [
    "s =  input(\"Enter Any String : \")\n",
    "x =[]\n",
    "for i in s:\n",
    "    if i not in x and s.count(i) > 1:\n",
    "        x.append(i)\n",
    "print(\"Duplicate Character in {} Is : \".format(s),\" \".join(x))\n"
   ]
  },
  {
   "cell_type": "markdown",
   "metadata": {},
   "source": [
    "### 02) WAP to capitalize the first and last character of each word in a string."
   ]
  },
  {
   "cell_type": "code",
   "execution_count": 5,
   "metadata": {},
   "outputs": [
    {
     "name": "stdout",
     "output_type": "stream",
     "text": [
      "Enter A String : Darsh Bhoraniya\n",
      "['Darsh', 'Bhoraniya']\n",
      "DarsH BhoraniyA "
     ]
    }
   ],
   "source": [
    "s = input(\"Enter A String : \").split()\n",
    "print(s)\n",
    "for i in s:\n",
    "    print(i[0].upper()+i[1:-1]+i[-1].upper(),end=\" \")"
   ]
  },
  {
   "cell_type": "markdown",
   "metadata": {},
   "source": [
    "### 03) WAP to find Maximum frequency character in String."
   ]
  },
  {
   "cell_type": "code",
   "execution_count": 3,
   "metadata": {},
   "outputs": [
    {
     "name": "stdout",
     "output_type": "stream",
     "text": [
      "Enter Any String : darshan univercity\n",
      "darshan univercity\n",
      "2\n"
     ]
    }
   ],
   "source": [
    "s = input(\"Enter Any String : \")\n",
    "print(s)\n",
    "x = []\n",
    "for i in s:\n",
    "    if i==\" \":\n",
    "        continue\n",
    "    ct = s.count(i)\n",
    "    x.append(ct)\n",
    "print(max(x))\n"
   ]
  },
  {
   "cell_type": "markdown",
   "metadata": {},
   "source": [
    "### 04) WAP to find Minimum frequency character in String."
   ]
  },
  {
   "cell_type": "code",
   "execution_count": 3,
   "metadata": {},
   "outputs": [
    {
     "name": "stdout",
     "output_type": "stream",
     "text": [
      "Enter Any String : darshan\n",
      "darshan\n",
      "2\n"
     ]
    }
   ],
   "source": [
    "s = input(\"Enter Any String : \")\n",
    "print(s)\n",
    "x = []\n",
    "for i in s:\n",
    "    if i==\" \":\n",
    "        continue\n",
    "    ct = s.count(i)\n",
    "    x.append(ct)\n",
    "print(max(x))"
   ]
  },
  {
   "cell_type": "markdown",
   "metadata": {},
   "source": [
    "### 05) WAP to check if a given string is binary string or not"
   ]
  },
  {
   "cell_type": "code",
   "execution_count": 1,
   "metadata": {},
   "outputs": [
    {
     "name": "stdout",
     "output_type": "stream",
     "text": [
      "Enter A String :101010\n",
      "Binary String\n"
     ]
    }
   ],
   "source": [
    "str = input(\"Enter A String :\")\n",
    "flag = 0\n",
    "for  i in str:\n",
    "    if i == '0' or i == '1' or i==\" \":\n",
    "        flag+=1\n",
    "if  flag==len(str):\n",
    "    print(\"Binary String\")\n",
    "else:\n",
    "    print(\"Not Binary String\")"
   ]
  }
 ],
 "metadata": {
  "kernelspec": {
   "display_name": "Python 3 (ipykernel)",
   "language": "python",
   "name": "python3"
  },
  "language_info": {
   "codemirror_mode": {
    "name": "ipython",
    "version": 3
   },
   "file_extension": ".py",
   "mimetype": "text/x-python",
   "name": "python",
   "nbconvert_exporter": "python",
   "pygments_lexer": "ipython3",
   "version": "3.9.13"
  },
  "vscode": {
   "interpreter": {
    "hash": "b5a6f1e0cd3542f02413380ed3d635a72415a672d8300e73b4be76e94015e3a8"
   }
  }
 },
 "nbformat": 4,
 "nbformat_minor": 4
}
